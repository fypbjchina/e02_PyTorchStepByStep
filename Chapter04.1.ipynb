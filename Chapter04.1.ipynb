{
 "cells": [
  {
   "cell_type": "markdown",
   "id": "ac5ed28f",
   "metadata": {},
   "source": [
    "# Deep Learning with PyTorch Step-by-Step: A Beginner's Guide"
   ]
  },
  {
   "cell_type": "markdown",
   "id": "89b47b0e",
   "metadata": {},
   "source": [
    "# Chapter Bonus - Feature Space"
   ]
  },
  {
   "cell_type": "markdown",
   "id": "3857e7a3",
   "metadata": {},
   "source": [
    "`本章的目的`：说明激活函数对特征空间的影响"
   ]
  },
  {
   "cell_type": "markdown",
   "id": "86a0e37b",
   "metadata": {},
   "source": [
    "`特征空间`：特征 \"存在\" 的 n维空间。\n",
    "* 第3章，两个特征进行二元分类 - 特征空间是二维的，也就是一个平面\n",
    "* 第4章，5x5像素的图像使用了25个特征 - 特征空间就是25维的，也就是一个超平面"
   ]
  },
  {
   "cell_type": "markdown",
   "id": "50e35188",
   "metadata": {},
   "source": [
    "## 二维特征空间"
   ]
  },
  {
   "cell_type": "markdown",
   "id": "226006df",
   "metadata": {},
   "source": [
    "图B.1: 2000个数据点，平均分为两类，\n",
    "* `目标`：训练一个二元分类器，分离两条曲线\n",
    "* 二元分类问题的`决策边界`是`一条直线`，不可能用来分隔抛物线"
   ]
  },
  {
   "cell_type": "markdown",
   "id": "4312669e",
   "metadata": {},
   "source": [
    "![04b.1](fig/04b.1_two_dimensional_feature_space_1.png)"
   ]
  },
  {
   "cell_type": "markdown",
   "id": "6b3479b0",
   "metadata": {},
   "source": [
    "## 转换"
   ]
  },
  {
   "cell_type": "markdown",
   "id": "cc28e536",
   "metadata": {},
   "source": [
    "`转换特征空间`映射到更高维的空间，更容易分离数据点\n",
    "\n",
    "第4章，在`没有激活函数`的情况下，更深层的模型具有等效的浅层模型，这意味着实际上`没有增加维度`"
   ]
  },
  {
   "cell_type": "markdown",
   "id": "51556314",
   "metadata": {},
   "source": [
    "### Affine Transformation - `仿射变换`\n",
    "* 简单的`线性变换` $w^Tx = w_1x_1 + w_2x_2 + ... + w_nx_n = \\sum_{i=1}^{n} w_ix_i$，\n",
    "* 如`旋转`，`缩放`，`翻转`和`剪切`等，然后是`平移`\n",
    "* 不同的`转换`有效地`增加维度`\n",
    "* `扭曲`和`转动`特征空间，这就是`激活函数的作用`"
   ]
  },
  {
   "cell_type": "markdown",
   "id": "3b0a477a",
   "metadata": {},
   "source": [
    "## 二维模型"
   ]
  },
  {
   "cell_type": "markdown",
   "id": "1350759d",
   "metadata": {},
   "source": [
    "![04b.2](fig/04b.2_model_diagram_1.png)"
   ]
  },
  {
   "cell_type": "raw",
   "id": "e83aa847",
   "metadata": {
    "vscode": {
     "languageId": "raw"
    }
   },
   "source": [
    "fs_model = nn.Sequential()\n",
    "fs_model.add_module('hidden', nn.Linear(2, 2))\n",
    "fs_model.add_module('activation', nn.Sigmoid())\n",
    "fs_model.add_module('output', nn.Linear(2, 1))\n",
    "fs_model.add_module('sigmoid', nn.Sigmoid())"
   ]
  },
  {
   "cell_type": "markdown",
   "id": "edccfefd",
   "metadata": {},
   "source": [
    "![04b.3](fig/04b.3_annotated_model_diagram_1.png)"
   ]
  },
  {
   "cell_type": "markdown",
   "id": "d8d9511b",
   "metadata": {},
   "source": [
    "执行的`仿射变换`：\n",
    "* 使用`权重`（w0和w1）执行特征空间（特征x0和x1）的线性变换，使生成的特征空间是原始特征空间的旋转、缩放、翻转或者剪切\n",
    "* 使用`偏差`（b0）将整个特征空间转换到不同的原点，产生转换后的特征空间（z0和z1）\n",
    "* 在转换后的特征空间上，激活函数发挥作用，`扭曲和转动`特征空间，使其无法识别\n",
    "* 生成的特征空间`提供给输出层`，这意味着输出层使用输入（z0和z1）来`绘制决策边界`"
   ]
  },
  {
   "cell_type": "markdown",
   "id": "850e5234",
   "metadata": {},
   "source": [
    "这句话\"在转换后的特征空间上，激活函数发挥作用，`扭曲和转动`特征空间，使其无法识别\"的真正含义是：\n",
    "\n",
    "激活函数的作用是对线性变换（仿射变换）后的特征空间进行非线性变换。这里\"使其无法识别\"并不是说特征空间变得无法使用，而是指原始的特征空间经过非线性变换后，形状和结构发生了显著变化，与原始特征空间相比已经面目全非。\n",
    "\n",
    "更准确的理解应该是：\n",
    "- 线性层（权重和偏置）首先对输入的特征空间进行仿射变换（旋转、缩放等）\n",
    "- 然后激活函数（如Sigmoid）对这个变换后的空间执行非线性变换\n",
    "- 这种非线性变换会显著改变特征空间的形状，使其与原始空间有很大不同\n",
    "- 这种变换的目的是创建更复杂的决策边界，使网络能够学习更复杂的模式\n",
    "\n",
    "这种转换是神经网络强大的关键原因。在上下文中提到的例子里，如果没有激活函数，那么深层网络就等同于浅层网络，无法增加模型的表达能力。激活函数通过引入非线性性，使得网络能够学习复杂的决策边界，解决那些线性不可分的问题（如笔记本中提到的抛物线形状的分类问题）。\n",
    "\n",
    "从文中的模型结构看，使用了Sigmoid激活函数，它会将线性输出压缩到0到1之间，这种非线性变换会改变特征空间的形状，从而实现更复杂的数据分类。"
   ]
  },
  {
   "cell_type": "markdown",
   "id": "84c4bcad",
   "metadata": {},
   "source": [
    "## 决策边界，激活方式"
   ]
  },
  {
   "cell_type": "markdown",
   "id": "7fa1b1cb",
   "metadata": {},
   "source": [
    "## 更多的函数，更多的边界"
   ]
  },
  {
   "cell_type": "markdown",
   "id": "032eb193",
   "metadata": {},
   "source": [
    "## 更多的层，更多的边界"
   ]
  },
  {
   "cell_type": "markdown",
   "id": "557106f5",
   "metadata": {},
   "source": [
    "## 更多的维度，更多的边界"
   ]
  }
 ],
 "metadata": {
  "kernelspec": {
   "display_name": "Python 3",
   "language": "python",
   "name": "python3"
  },
  "language_info": {
   "name": "python",
   "version": "3.9.7"
  }
 },
 "nbformat": 4,
 "nbformat_minor": 5
}
